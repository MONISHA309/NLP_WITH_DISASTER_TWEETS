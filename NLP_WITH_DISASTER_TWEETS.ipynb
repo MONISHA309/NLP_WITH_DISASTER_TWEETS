{
  "cells": [
    {
      "cell_type": "code",
      "execution_count": null,
      "metadata": {
        "colab": {
          "base_uri": "https://localhost:8080/"
        },
        "id": "slLd0sGlD14T",
        "outputId": "0eee0cfc-8d90-4155-a9c3-cca408ad21bd"
      },
      "outputs": [
        {
          "output_type": "stream",
          "name": "stdout",
          "text": [
            "Collecting pyspark\n",
            "  Downloading pyspark-3.5.0.tar.gz (316.9 MB)\n",
            "\u001b[2K     \u001b[90m━━━━━━━━━━━━━━━━━━━━━━━━━━━━━━━━━━━━━━━━\u001b[0m \u001b[32m316.9/316.9 MB\u001b[0m \u001b[31m4.8 MB/s\u001b[0m eta \u001b[36m0:00:00\u001b[0m\n",
            "\u001b[?25h  Preparing metadata (setup.py) ... \u001b[?25l\u001b[?25hdone\n",
            "Requirement already satisfied: py4j==0.10.9.7 in /usr/local/lib/python3.10/dist-packages (from pyspark) (0.10.9.7)\n",
            "Building wheels for collected packages: pyspark\n",
            "  Building wheel for pyspark (setup.py) ... \u001b[?25l\u001b[?25hdone\n",
            "  Created wheel for pyspark: filename=pyspark-3.5.0-py2.py3-none-any.whl size=317425344 sha256=92ca0b234e8dd80d2d567fe4c3ea753e96da62f075214f2a4f09f50370836b35\n",
            "  Stored in directory: /root/.cache/pip/wheels/41/4e/10/c2cf2467f71c678cfc8a6b9ac9241e5e44a01940da8fbb17fc\n",
            "Successfully built pyspark\n",
            "Installing collected packages: pyspark\n",
            "Successfully installed pyspark-3.5.0\n"
          ]
        }
      ],
      "source": [
        "!pip install pyspark"
      ]
    },
    {
      "cell_type": "code",
      "execution_count": null,
      "metadata": {
        "id": "cfza_4_OD7Qm"
      },
      "outputs": [],
      "source": [
        "import numpy as np\n",
        "\n",
        "import pandas as pd\n",
        "import matplotlib.pyplot as plt\n",
        "from pyspark.sql import SparkSession\n",
        "from pyspark.ml import Pipeline\n",
        "from pyspark.sql.functions import when, col\n",
        "import pyspark.sql.functions as F\n",
        "from pyspark.sql.functions import count\n",
        "from pyspark.ml import Pipeline\n",
        "from pyspark.ml.tuning import ParamGridBuilder, CrossValidator\n",
        "from pyspark.ml.feature import CountVectorizer,StringIndexer, RegexTokenizer,StopWordsRemover\n",
        "from pyspark.sql.functions import col, udf,regexp_replace,isnull\n",
        "from pyspark.sql.types import StringType,IntegerType\n",
        "from pyspark.ml.classification import NaiveBayes, RandomForestClassifier, LogisticRegression, DecisionTreeClassifier, GBTClassifier\n",
        "from pyspark.ml.evaluation import MulticlassClassificationEvaluator, BinaryClassificationEvaluator"
      ]
    },
    {
      "cell_type": "code",
      "execution_count": null,
      "metadata": {
        "id": "kKbdG_hOHdHS"
      },
      "outputs": [],
      "source": [
        "spark = SparkSession.builder.appName('Natural_Language_processing_with_Diasater_Tweets').getOrCreate()"
      ]
    },
    {
      "cell_type": "code",
      "execution_count": null,
      "metadata": {
        "colab": {
          "base_uri": "https://localhost:8080/"
        },
        "id": "eVu0MKqzHoA0",
        "outputId": "56fb56be-50f3-4935-ccb9-00f9ec118357"
      },
      "outputs": [
        {
          "output_type": "stream",
          "name": "stdout",
          "text": [
            "root\n",
            " |-- id: string (nullable = true)\n",
            " |-- keyword: string (nullable = true)\n",
            " |-- location: string (nullable = true)\n",
            " |-- text: string (nullable = true)\n",
            " |-- target: integer (nullable = true)\n",
            "\n"
          ]
        }
      ],
      "source": [
        "sdf_train = spark.read.csv('/content/train.csv', header = True, inferSchema = True)\n",
        "sdf_train.printSchema()"
      ]
    },
    {
      "cell_type": "code",
      "execution_count": null,
      "metadata": {
        "id": "KWNILudZHvJm",
        "colab": {
          "base_uri": "https://localhost:8080/",
          "height": 206
        },
        "outputId": "aeb19284-c3db-4544-fef8-8a04db95b5e8"
      },
      "outputs": [
        {
          "output_type": "execute_result",
          "data": {
            "text/plain": [
              "  id keyword location                                               text  \\\n",
              "0  1    None     None  Our Deeds are the Reason of this #earthquake M...   \n",
              "1  4    None     None             Forest fire near La Ronge Sask. Canada   \n",
              "2  5    None     None  All residents asked to 'shelter in place' are ...   \n",
              "3  6    None     None  13,000 people receive #wildfires evacuation or...   \n",
              "4  7    None     None  Just got sent this photo from Ruby #Alaska as ...   \n",
              "\n",
              "   target  \n",
              "0       1  \n",
              "1       1  \n",
              "2       1  \n",
              "3       1  \n",
              "4       1  "
            ],
            "text/html": [
              "\n",
              "  <div id=\"df-f6db2818-e6d2-42f4-8c33-5409cf3e9478\" class=\"colab-df-container\">\n",
              "    <div>\n",
              "<style scoped>\n",
              "    .dataframe tbody tr th:only-of-type {\n",
              "        vertical-align: middle;\n",
              "    }\n",
              "\n",
              "    .dataframe tbody tr th {\n",
              "        vertical-align: top;\n",
              "    }\n",
              "\n",
              "    .dataframe thead th {\n",
              "        text-align: right;\n",
              "    }\n",
              "</style>\n",
              "<table border=\"1\" class=\"dataframe\">\n",
              "  <thead>\n",
              "    <tr style=\"text-align: right;\">\n",
              "      <th></th>\n",
              "      <th>id</th>\n",
              "      <th>keyword</th>\n",
              "      <th>location</th>\n",
              "      <th>text</th>\n",
              "      <th>target</th>\n",
              "    </tr>\n",
              "  </thead>\n",
              "  <tbody>\n",
              "    <tr>\n",
              "      <th>0</th>\n",
              "      <td>1</td>\n",
              "      <td>None</td>\n",
              "      <td>None</td>\n",
              "      <td>Our Deeds are the Reason of this #earthquake M...</td>\n",
              "      <td>1</td>\n",
              "    </tr>\n",
              "    <tr>\n",
              "      <th>1</th>\n",
              "      <td>4</td>\n",
              "      <td>None</td>\n",
              "      <td>None</td>\n",
              "      <td>Forest fire near La Ronge Sask. Canada</td>\n",
              "      <td>1</td>\n",
              "    </tr>\n",
              "    <tr>\n",
              "      <th>2</th>\n",
              "      <td>5</td>\n",
              "      <td>None</td>\n",
              "      <td>None</td>\n",
              "      <td>All residents asked to 'shelter in place' are ...</td>\n",
              "      <td>1</td>\n",
              "    </tr>\n",
              "    <tr>\n",
              "      <th>3</th>\n",
              "      <td>6</td>\n",
              "      <td>None</td>\n",
              "      <td>None</td>\n",
              "      <td>13,000 people receive #wildfires evacuation or...</td>\n",
              "      <td>1</td>\n",
              "    </tr>\n",
              "    <tr>\n",
              "      <th>4</th>\n",
              "      <td>7</td>\n",
              "      <td>None</td>\n",
              "      <td>None</td>\n",
              "      <td>Just got sent this photo from Ruby #Alaska as ...</td>\n",
              "      <td>1</td>\n",
              "    </tr>\n",
              "  </tbody>\n",
              "</table>\n",
              "</div>\n",
              "    <div class=\"colab-df-buttons\">\n",
              "\n",
              "  <div class=\"colab-df-container\">\n",
              "    <button class=\"colab-df-convert\" onclick=\"convertToInteractive('df-f6db2818-e6d2-42f4-8c33-5409cf3e9478')\"\n",
              "            title=\"Convert this dataframe to an interactive table.\"\n",
              "            style=\"display:none;\">\n",
              "\n",
              "  <svg xmlns=\"http://www.w3.org/2000/svg\" height=\"24px\" viewBox=\"0 -960 960 960\">\n",
              "    <path d=\"M120-120v-720h720v720H120Zm60-500h600v-160H180v160Zm220 220h160v-160H400v160Zm0 220h160v-160H400v160ZM180-400h160v-160H180v160Zm440 0h160v-160H620v160ZM180-180h160v-160H180v160Zm440 0h160v-160H620v160Z\"/>\n",
              "  </svg>\n",
              "    </button>\n",
              "\n",
              "  <style>\n",
              "    .colab-df-container {\n",
              "      display:flex;\n",
              "      gap: 12px;\n",
              "    }\n",
              "\n",
              "    .colab-df-convert {\n",
              "      background-color: #E8F0FE;\n",
              "      border: none;\n",
              "      border-radius: 50%;\n",
              "      cursor: pointer;\n",
              "      display: none;\n",
              "      fill: #1967D2;\n",
              "      height: 32px;\n",
              "      padding: 0 0 0 0;\n",
              "      width: 32px;\n",
              "    }\n",
              "\n",
              "    .colab-df-convert:hover {\n",
              "      background-color: #E2EBFA;\n",
              "      box-shadow: 0px 1px 2px rgba(60, 64, 67, 0.3), 0px 1px 3px 1px rgba(60, 64, 67, 0.15);\n",
              "      fill: #174EA6;\n",
              "    }\n",
              "\n",
              "    .colab-df-buttons div {\n",
              "      margin-bottom: 4px;\n",
              "    }\n",
              "\n",
              "    [theme=dark] .colab-df-convert {\n",
              "      background-color: #3B4455;\n",
              "      fill: #D2E3FC;\n",
              "    }\n",
              "\n",
              "    [theme=dark] .colab-df-convert:hover {\n",
              "      background-color: #434B5C;\n",
              "      box-shadow: 0px 1px 3px 1px rgba(0, 0, 0, 0.15);\n",
              "      filter: drop-shadow(0px 1px 2px rgba(0, 0, 0, 0.3));\n",
              "      fill: #FFFFFF;\n",
              "    }\n",
              "  </style>\n",
              "\n",
              "    <script>\n",
              "      const buttonEl =\n",
              "        document.querySelector('#df-f6db2818-e6d2-42f4-8c33-5409cf3e9478 button.colab-df-convert');\n",
              "      buttonEl.style.display =\n",
              "        google.colab.kernel.accessAllowed ? 'block' : 'none';\n",
              "\n",
              "      async function convertToInteractive(key) {\n",
              "        const element = document.querySelector('#df-f6db2818-e6d2-42f4-8c33-5409cf3e9478');\n",
              "        const dataTable =\n",
              "          await google.colab.kernel.invokeFunction('convertToInteractive',\n",
              "                                                    [key], {});\n",
              "        if (!dataTable) return;\n",
              "\n",
              "        const docLinkHtml = 'Like what you see? Visit the ' +\n",
              "          '<a target=\"_blank\" href=https://colab.research.google.com/notebooks/data_table.ipynb>data table notebook</a>'\n",
              "          + ' to learn more about interactive tables.';\n",
              "        element.innerHTML = '';\n",
              "        dataTable['output_type'] = 'display_data';\n",
              "        await google.colab.output.renderOutput(dataTable, element);\n",
              "        const docLink = document.createElement('div');\n",
              "        docLink.innerHTML = docLinkHtml;\n",
              "        element.appendChild(docLink);\n",
              "      }\n",
              "    </script>\n",
              "  </div>\n",
              "\n",
              "\n",
              "<div id=\"df-b2daf185-7f08-454f-9f00-217906901913\">\n",
              "  <button class=\"colab-df-quickchart\" onclick=\"quickchart('df-b2daf185-7f08-454f-9f00-217906901913')\"\n",
              "            title=\"Suggest charts.\"\n",
              "            style=\"display:none;\">\n",
              "\n",
              "<svg xmlns=\"http://www.w3.org/2000/svg\" height=\"24px\"viewBox=\"0 0 24 24\"\n",
              "     width=\"24px\">\n",
              "    <g>\n",
              "        <path d=\"M19 3H5c-1.1 0-2 .9-2 2v14c0 1.1.9 2 2 2h14c1.1 0 2-.9 2-2V5c0-1.1-.9-2-2-2zM9 17H7v-7h2v7zm4 0h-2V7h2v10zm4 0h-2v-4h2v4z\"/>\n",
              "    </g>\n",
              "</svg>\n",
              "  </button>\n",
              "\n",
              "<style>\n",
              "  .colab-df-quickchart {\n",
              "      --bg-color: #E8F0FE;\n",
              "      --fill-color: #1967D2;\n",
              "      --hover-bg-color: #E2EBFA;\n",
              "      --hover-fill-color: #174EA6;\n",
              "      --disabled-fill-color: #AAA;\n",
              "      --disabled-bg-color: #DDD;\n",
              "  }\n",
              "\n",
              "  [theme=dark] .colab-df-quickchart {\n",
              "      --bg-color: #3B4455;\n",
              "      --fill-color: #D2E3FC;\n",
              "      --hover-bg-color: #434B5C;\n",
              "      --hover-fill-color: #FFFFFF;\n",
              "      --disabled-bg-color: #3B4455;\n",
              "      --disabled-fill-color: #666;\n",
              "  }\n",
              "\n",
              "  .colab-df-quickchart {\n",
              "    background-color: var(--bg-color);\n",
              "    border: none;\n",
              "    border-radius: 50%;\n",
              "    cursor: pointer;\n",
              "    display: none;\n",
              "    fill: var(--fill-color);\n",
              "    height: 32px;\n",
              "    padding: 0;\n",
              "    width: 32px;\n",
              "  }\n",
              "\n",
              "  .colab-df-quickchart:hover {\n",
              "    background-color: var(--hover-bg-color);\n",
              "    box-shadow: 0 1px 2px rgba(60, 64, 67, 0.3), 0 1px 3px 1px rgba(60, 64, 67, 0.15);\n",
              "    fill: var(--button-hover-fill-color);\n",
              "  }\n",
              "\n",
              "  .colab-df-quickchart-complete:disabled,\n",
              "  .colab-df-quickchart-complete:disabled:hover {\n",
              "    background-color: var(--disabled-bg-color);\n",
              "    fill: var(--disabled-fill-color);\n",
              "    box-shadow: none;\n",
              "  }\n",
              "\n",
              "  .colab-df-spinner {\n",
              "    border: 2px solid var(--fill-color);\n",
              "    border-color: transparent;\n",
              "    border-bottom-color: var(--fill-color);\n",
              "    animation:\n",
              "      spin 1s steps(1) infinite;\n",
              "  }\n",
              "\n",
              "  @keyframes spin {\n",
              "    0% {\n",
              "      border-color: transparent;\n",
              "      border-bottom-color: var(--fill-color);\n",
              "      border-left-color: var(--fill-color);\n",
              "    }\n",
              "    20% {\n",
              "      border-color: transparent;\n",
              "      border-left-color: var(--fill-color);\n",
              "      border-top-color: var(--fill-color);\n",
              "    }\n",
              "    30% {\n",
              "      border-color: transparent;\n",
              "      border-left-color: var(--fill-color);\n",
              "      border-top-color: var(--fill-color);\n",
              "      border-right-color: var(--fill-color);\n",
              "    }\n",
              "    40% {\n",
              "      border-color: transparent;\n",
              "      border-right-color: var(--fill-color);\n",
              "      border-top-color: var(--fill-color);\n",
              "    }\n",
              "    60% {\n",
              "      border-color: transparent;\n",
              "      border-right-color: var(--fill-color);\n",
              "    }\n",
              "    80% {\n",
              "      border-color: transparent;\n",
              "      border-right-color: var(--fill-color);\n",
              "      border-bottom-color: var(--fill-color);\n",
              "    }\n",
              "    90% {\n",
              "      border-color: transparent;\n",
              "      border-bottom-color: var(--fill-color);\n",
              "    }\n",
              "  }\n",
              "</style>\n",
              "\n",
              "  <script>\n",
              "    async function quickchart(key) {\n",
              "      const quickchartButtonEl =\n",
              "        document.querySelector('#' + key + ' button');\n",
              "      quickchartButtonEl.disabled = true;  // To prevent multiple clicks.\n",
              "      quickchartButtonEl.classList.add('colab-df-spinner');\n",
              "      try {\n",
              "        const charts = await google.colab.kernel.invokeFunction(\n",
              "            'suggestCharts', [key], {});\n",
              "      } catch (error) {\n",
              "        console.error('Error during call to suggestCharts:', error);\n",
              "      }\n",
              "      quickchartButtonEl.classList.remove('colab-df-spinner');\n",
              "      quickchartButtonEl.classList.add('colab-df-quickchart-complete');\n",
              "    }\n",
              "    (() => {\n",
              "      let quickchartButtonEl =\n",
              "        document.querySelector('#df-b2daf185-7f08-454f-9f00-217906901913 button');\n",
              "      quickchartButtonEl.style.display =\n",
              "        google.colab.kernel.accessAllowed ? 'block' : 'none';\n",
              "    })();\n",
              "  </script>\n",
              "</div>\n",
              "    </div>\n",
              "  </div>\n"
            ]
          },
          "metadata": {},
          "execution_count": 5
        }
      ],
      "source": [
        "pd.DataFrame(sdf_train.take(5), columns=sdf_train.columns)"
      ]
    },
    {
      "cell_type": "code",
      "execution_count": null,
      "metadata": {
        "id": "uibOqOirH5cL",
        "colab": {
          "base_uri": "https://localhost:8080/"
        },
        "outputId": "88077bba-637d-4b46-ee9d-05588a6f0619"
      },
      "outputs": [
        {
          "output_type": "stream",
          "name": "stdout",
          "text": [
            "Training Data Record Count: 8387\n"
          ]
        }
      ],
      "source": [
        "print(\"Training Data Record Count:\",sdf_train.count())"
      ]
    },
    {
      "cell_type": "code",
      "execution_count": null,
      "metadata": {
        "id": "0bU5dybgH6Z8",
        "colab": {
          "base_uri": "https://localhost:8080/"
        },
        "outputId": "60cb9a41-f5ce-4b63-8942-49b7925ccca9"
      },
      "outputs": [
        {
          "output_type": "execute_result",
          "data": {
            "text/plain": [
              "target\n",
              "0.0    4095\n",
              "1.0    3081\n",
              "dtype: int64"
            ]
          },
          "metadata": {},
          "execution_count": 7
        }
      ],
      "source": [
        "sdf_train.toPandas().groupby(['target']).size()"
      ]
    },
    {
      "cell_type": "code",
      "execution_count": null,
      "metadata": {
        "id": "lxGqJG3CKhma",
        "colab": {
          "base_uri": "https://localhost:8080/",
          "height": 692
        },
        "outputId": "c7ca25cf-a6c3-4031-d193-b8d5ab4e0898"
      },
      "outputs": [
        {
          "output_type": "execute_result",
          "data": {
            "text/plain": [
              "Text(0.5, 1.0, 'target distribution with pie chart')"
            ]
          },
          "metadata": {},
          "execution_count": 8
        },
        {
          "output_type": "display_data",
          "data": {
            "text/plain": [
              "<Figure size 1000x800 with 1 Axes>"
            ],
            "image/png": "[encoded data removed]"
          },
          "metadata": {}
        }
      ],
      "source": [
        "fig,ax = plt.subplots(1,1,figsize=(10,8))\n",
        "sdf_train.select(\"target\").toPandas().value_counts().plot.pie(explode=[0,0.1],autopct='%1.1f%%',ax=ax,shadow=True)\n",
        "ax.set_title(\"target distribution with pie chart\")"
      ]
    },
    {
      "cell_type": "code",
      "execution_count": null,
      "metadata": {
        "id": "F5X_eMKKLPUF",
        "colab": {
          "base_uri": "https://localhost:8080/"
        },
        "outputId": "e8310237-6042-4422-b5f8-daa0ca91b78b"
      },
      "outputs": [
        {
          "output_type": "execute_result",
          "data": {
            "text/plain": [
              "id             0\n",
              "keyword      400\n",
              "location    3307\n",
              "text         776\n",
              "target      1211\n",
              "dtype: int64"
            ]
          },
          "metadata": {},
          "execution_count": 9
        }
      ],
      "source": [
        "# check nan value\n",
        "sdf_train.toPandas().isna().sum()"
      ]
    },
    {
      "cell_type": "code",
      "execution_count": null,
      "metadata": {
        "id": "QabyqybOLixk",
        "colab": {
          "base_uri": "https://localhost:8080/"
        },
        "outputId": "2b78a6e9-68dd-4bfb-da67-51cd3ba6ee9a"
      },
      "outputs": [
        {
          "output_type": "stream",
          "name": "stdout",
          "text": [
            "id             0\n",
            "keyword       61\n",
            "location    2533\n",
            "text           0\n",
            "target       435\n",
            "dtype: int64\n"
          ]
        }
      ],
      "source": [
        "# drop the row when text field is nan\n",
        "# using subset for targeting text fieled\n",
        "print(sdf_train.dropna(subset=[\"text\"]).toPandas().isna().sum())\n",
        "sdf_train = sdf_train.dropna(subset=[\"text\"])"
      ]
    },
    {
      "cell_type": "code",
      "execution_count": null,
      "metadata": {
        "id": "d0A8gHFBLx2N",
        "colab": {
          "base_uri": "https://localhost:8080/"
        },
        "outputId": "192f8a82-c24f-4ff8-b3d4-aa6eed48f539"
      },
      "outputs": [
        {
          "output_type": "execute_result",
          "data": {
            "text/plain": [
              "id             0\n",
              "keyword       61\n",
              "location    2405\n",
              "text           0\n",
              "target         0\n",
              "dtype: int64"
            ]
          },
          "metadata": {},
          "execution_count": 11
        }
      ],
      "source": [
        "# temporaly drop the row when target is nan\n",
        "# todo is seudo labelling(with clustering...)\n",
        "sdf_train = sdf_train.dropna(subset=[\"target\"])\n",
        "sdf_train.toPandas().isna().sum()"
      ]
    },
    {
      "cell_type": "code",
      "execution_count": null,
      "metadata": {
        "id": "R99vAFpFMugR",
        "colab": {
          "base_uri": "https://localhost:8080/"
        },
        "outputId": "29dc3742-01c6-45cc-f3c1-0337dcf8ec85"
      },
      "outputs": [
        {
          "output_type": "stream",
          "name": "stdout",
          "text": [
            "Training Data Record Count: 7176\n"
          ]
        }
      ],
      "source": [
        "print(\"Training Data Record Count:\",sdf_train.count())"
      ]
    },
    {
      "cell_type": "code",
      "execution_count": null,
      "metadata": {
        "id": "hADBGzLOMrBa",
        "colab": {
          "base_uri": "https://localhost:8080/"
        },
        "outputId": "440bc455-d3cf-4531-d187-2b833a04a9ff"
      },
      "outputs": [
        {
          "output_type": "stream",
          "name": "stdout",
          "text": [
            "Shape:  219 , 3\n",
            "+------+-----------+--------------+\n",
            "|target|    keyword|count(keyword)|\n",
            "+------+-----------+--------------+\n",
            "|     0|body%20bags|            39|\n",
            "|     0|    wrecked|            36|\n",
            "|     0|     deluge|            36|\n",
            "|     0|       ruin|            36|\n",
            "|     0|       harm|            35|\n",
            "|     0|      siren|            33|\n",
            "|     0|    twister|            33|\n",
            "|     0| armageddon|            33|\n",
            "|     0|      crush|            33|\n",
            "|     0| aftershock|            32|\n",
            "|     0|traumatised|            32|\n",
            "|     0|   blizzard|            32|\n",
            "|     0|      panic|            32|\n",
            "|     0|      blaze|            32|\n",
            "|     0|    sinking|            32|\n",
            "|     0|  screaming|            32|\n",
            "|     0|    explode|            32|\n",
            "|     0|       fear|            31|\n",
            "|     0|  panicking|            31|\n",
            "|     0|   hellfire|            31|\n",
            "+------+-----------+--------------+\n",
            "only showing top 20 rows\n",
            "\n"
          ]
        }
      ],
      "source": [
        "# grouping target & keyword\n",
        "# using filter for condition!\n",
        "sdf_train_group_0 = sdf_train.filter((sdf_train.target == 0)).groupby(\"target\",\"keyword\").agg(count(\"keyword\"))\n",
        "print(\"Shape: \",sdf_train_group_0.count(),\",\" ,len(sdf_train_group_0.columns))\n",
        "sdf_train_group_0.sort(\"count(keyword)\",ascending=False).show()"
      ]
    },
    {
      "cell_type": "code",
      "execution_count": null,
      "metadata": {
        "id": "hkuCYNYwOEmL",
        "colab": {
          "base_uri": "https://localhost:8080/",
          "height": 632
        },
        "outputId": "24e9e46d-aca4-4436-806a-45093bb9a93a"
      },
      "outputs": [
        {
          "output_type": "execute_result",
          "data": {
            "text/plain": [
              "         id keyword location  \\\n",
              "0         1    None     None   \n",
              "1         4    None     None   \n",
              "2         5    None     None   \n",
              "3         6    None     None   \n",
              "4         7    None     None   \n",
              "...     ...     ...      ...   \n",
              "7171  10869    None     None   \n",
              "7172  10870    None     None   \n",
              "7173  10871    None     None   \n",
              "7174  10872    None     None   \n",
              "7175  10873    None     None   \n",
              "\n",
              "                                                   text  target  \\\n",
              "0     Our Deeds are the Reason of this #earthquake M...       1   \n",
              "1                Forest fire near La Ronge Sask. Canada       1   \n",
              "2     All residents asked to 'shelter in place' are ...       1   \n",
              "3     13,000 people receive #wildfires evacuation or...       1   \n",
              "4     Just got sent this photo from Ruby #Alaska as ...       1   \n",
              "...                                                 ...     ...   \n",
              "7171  Two giant cranes holding a bridge collapse int...       1   \n",
              "7172  @aria_ahrary @TheTawniest The out of control w...       1   \n",
              "7173  M1.94 [01:04 UTC]?5km S of Volcano Hawaii. htt...       1   \n",
              "7174  Police investigating after an e-bike collided ...       1   \n",
              "7175  The Latest: More Homes Razed by Northern Calif...       1   \n",
              "\n",
              "      length_of_text  \n",
              "0                 69  \n",
              "1                 38  \n",
              "2                133  \n",
              "3                 65  \n",
              "4                 88  \n",
              "...              ...  \n",
              "7171              83  \n",
              "7172             125  \n",
              "7173              65  \n",
              "7174             137  \n",
              "7175              94  \n",
              "\n",
              "[7176 rows x 6 columns]"
            ],
            "text/html": [
              "\n",
              "  <div id=\"df-7b7625a4-35ed-4b1a-8403-55857faf7258\" class=\"colab-df-container\">\n",
              "    <div>\n",
              "<style scoped>\n",
              "    .dataframe tbody tr th:only-of-type {\n",
              "        vertical-align: middle;\n",
              "    }\n",
              "\n",
              "    .dataframe tbody tr th {\n",
              "        vertical-align: top;\n",
              "    }\n",
              "\n",
              "    .dataframe thead th {\n",
              "        text-align: right;\n",
              "    }\n",
              "</style>\n",
              "<table border=\"1\" class=\"dataframe\">\n",
              "  <thead>\n",
              "    <tr style=\"text-align: right;\">\n",
              "      <th></th>\n",
              "      <th>id</th>\n",
              "      <th>keyword</th>\n",
              "      <th>location</th>\n",
              "      <th>text</th>\n",
              "      <th>target</th>\n",
              "      <th>length_of_text</th>\n",
              "    </tr>\n",
              "  </thead>\n",
              "  <tbody>\n",
              "    <tr>\n",
              "      <th>0</th>\n",
              "      <td>1</td>\n",
              "      <td>None</td>\n",
              "      <td>None</td>\n",
              "      <td>Our Deeds are the Reason of this #earthquake M...</td>\n",
              "      <td>1</td>\n",
              "      <td>69</td>\n",
              "    </tr>\n",
              "    <tr>\n",
              "      <th>1</th>\n",
              "      <td>4</td>\n",
              "      <td>None</td>\n",
              "      <td>None</td>\n",
              "      <td>Forest fire near La Ronge Sask. Canada</td>\n",
              "      <td>1</td>\n",
              "      <td>38</td>\n",
              "    </tr>\n",
              "    <tr>\n",
              "      <th>2</th>\n",
              "      <td>5</td>\n",
              "      <td>None</td>\n",
              "      <td>None</td>\n",
              "      <td>All residents asked to 'shelter in place' are ...</td>\n",
              "      <td>1</td>\n",
              "      <td>133</td>\n",
              "    </tr>\n",
              "    <tr>\n",
              "      <th>3</th>\n",
              "      <td>6</td>\n",
              "      <td>None</td>\n",
              "      <td>None</td>\n",
              "      <td>13,000 people receive #wildfires evacuation or...</td>\n",
              "      <td>1</td>\n",
              "      <td>65</td>\n",
              "    </tr>\n",
              "    <tr>\n",
              "      <th>4</th>\n",
              "      <td>7</td>\n",
              "      <td>None</td>\n",
              "      <td>None</td>\n",
              "      <td>Just got sent this photo from Ruby #Alaska as ...</td>\n",
              "      <td>1</td>\n",
              "      <td>88</td>\n",
              "    </tr>\n",
              "    <tr>\n",
              "      <th>...</th>\n",
              "      <td>...</td>\n",
              "      <td>...</td>\n",
              "      <td>...</td>\n",
              "      <td>...</td>\n",
              "      <td>...</td>\n",
              "      <td>...</td>\n",
              "    </tr>\n",
              "    <tr>\n",
              "      <th>7171</th>\n",
              "      <td>10869</td>\n",
              "      <td>None</td>\n",
              "      <td>None</td>\n",
              "      <td>Two giant cranes holding a bridge collapse int...</td>\n",
              "      <td>1</td>\n",
              "      <td>83</td>\n",
              "    </tr>\n",
              "    <tr>\n",
              "      <th>7172</th>\n",
              "      <td>10870</td>\n",
              "      <td>None</td>\n",
              "      <td>None</td>\n",
              "      <td>@aria_ahrary @TheTawniest The out of control w...</td>\n",
              "      <td>1</td>\n",
              "      <td>125</td>\n",
              "    </tr>\n",
              "    <tr>\n",
              "      <th>7173</th>\n",
              "      <td>10871</td>\n",
              "      <td>None</td>\n",
              "      <td>None</td>\n",
              "      <td>M1.94 [01:04 UTC]?5km S of Volcano Hawaii. htt...</td>\n",
              "      <td>1</td>\n",
              "      <td>65</td>\n",
              "    </tr>\n",
              "    <tr>\n",
              "      <th>7174</th>\n",
              "      <td>10872</td>\n",
              "      <td>None</td>\n",
              "      <td>None</td>\n",
              "      <td>Police investigating after an e-bike collided ...</td>\n",
              "      <td>1</td>\n",
              "      <td>137</td>\n",
              "    </tr>\n",
              "    <tr>\n",
              "      <th>7175</th>\n",
              "      <td>10873</td>\n",
              "      <td>None</td>\n",
              "      <td>None</td>\n",
              "      <td>The Latest: More Homes Razed by Northern Calif...</td>\n",
              "      <td>1</td>\n",
              "      <td>94</td>\n",
              "    </tr>\n",
              "  </tbody>\n",
              "</table>\n",
              "<p>7176 rows × 6 columns</p>\n",
              "</div>\n",
              "    <div class=\"colab-df-buttons\">\n",
              "\n",
              "  <div class=\"colab-df-container\">\n",
              "    <button class=\"colab-df-convert\" onclick=\"convertToInteractive('df-7b7625a4-35ed-4b1a-8403-55857faf7258')\"\n",
              "            title=\"Convert this dataframe to an interactive table.\"\n",
              "            style=\"display:none;\">\n",
              "\n",
              "  <svg xmlns=\"http://www.w3.org/2000/svg\" height=\"24px\" viewBox=\"0 -960 960 960\">\n",
              "    <path d=\"M120-120v-720h720v720H120Zm60-500h600v-160H180v160Zm220 220h160v-160H400v160Zm0 220h160v-160H400v160ZM180-400h160v-160H180v160Zm440 0h160v-160H620v160ZM180-180h160v-160H180v160Zm440 0h160v-160H620v160Z\"/>\n",
              "  </svg>\n",
              "    </button>\n",
              "\n",
              "  <style>\n",
              "    .colab-df-container {\n",
              "      display:flex;\n",
              "      gap: 12px;\n",
              "    }\n",
              "\n",
              "    .colab-df-convert {\n",
              "      background-color: #E8F0FE;\n",
              "      border: none;\n",
              "      border-radius: 50%;\n",
              "      cursor: pointer;\n",
              "      display: none;\n",
              "      fill: #1967D2;\n",
              "      height: 32px;\n",
              "      padding: 0 0 0 0;\n",
              "      width: 32px;\n",
              "    }\n",
              "\n",
              "    .colab-df-convert:hover {\n",
              "      background-color: #E2EBFA;\n",
              "      box-shadow: 0px 1px 2px rgba(60, 64, 67, 0.3), 0px 1px 3px 1px rgba(60, 64, 67, 0.15);\n",
              "      fill: #174EA6;\n",
              "    }\n",
              "\n",
              "    .colab-df-buttons div {\n",
              "      margin-bottom: 4px;\n",
              "    }\n",
              "\n",
              "    [theme=dark] .colab-df-convert {\n",
              "      background-color: #3B4455;\n",
              "      fill: #D2E3FC;\n",
              "    }\n",
              "\n",
              "    [theme=dark] .colab-df-convert:hover {\n",
              "      background-color: #434B5C;\n",
              "      box-shadow: 0px 1px 3px 1px rgba(0, 0, 0, 0.15);\n",
              "      filter: drop-shadow(0px 1px 2px rgba(0, 0, 0, 0.3));\n",
              "      fill: #FFFFFF;\n",
              "    }\n",
              "  </style>\n",
              "\n",
              "    <script>\n",
              "      const buttonEl =\n",
              "        document.querySelector('#df-7b7625a4-35ed-4b1a-8403-55857faf7258 button.colab-df-convert');\n",
              "      buttonEl.style.display =\n",
              "        google.colab.kernel.accessAllowed ? 'block' : 'none';\n",
              "\n",
              "      async function convertToInteractive(key) {\n",
              "        const element = document.querySelector('#df-7b7625a4-35ed-4b1a-8403-55857faf7258');\n",
              "        const dataTable =\n",
              "          await google.colab.kernel.invokeFunction('convertToInteractive',\n",
              "                                                    [key], {});\n",
              "        if (!dataTable) return;\n",
              "\n",
              "        const docLinkHtml = 'Like what you see? Visit the ' +\n",
              "          '<a target=\"_blank\" href=https://colab.research.google.com/notebooks/data_table.ipynb>data table notebook</a>'\n",
              "          + ' to learn more about interactive tables.';\n",
              "        element.innerHTML = '';\n",
              "        dataTable['output_type'] = 'display_data';\n",
              "        await google.colab.output.renderOutput(dataTable, element);\n",
              "        const docLink = document.createElement('div');\n",
              "        docLink.innerHTML = docLinkHtml;\n",
              "        element.appendChild(docLink);\n",
              "      }\n",
              "    </script>\n",
              "  </div>\n",
              "\n",
              "\n",
              "<div id=\"df-eca17c00-f9ff-4ef0-a506-22a4786a6c6c\">\n",
              "  <button class=\"colab-df-quickchart\" onclick=\"quickchart('df-eca17c00-f9ff-4ef0-a506-22a4786a6c6c')\"\n",
              "            title=\"Suggest charts.\"\n",
              "            style=\"display:none;\">\n",
              "\n",
              "<svg xmlns=\"http://www.w3.org/2000/svg\" height=\"24px\"viewBox=\"0 0 24 24\"\n",
              "     width=\"24px\">\n",
              "    <g>\n",
              "        <path d=\"M19 3H5c-1.1 0-2 .9-2 2v14c0 1.1.9 2 2 2h14c1.1 0 2-.9 2-2V5c0-1.1-.9-2-2-2zM9 17H7v-7h2v7zm4 0h-2V7h2v10zm4 0h-2v-4h2v4z\"/>\n",
              "    </g>\n",
              "</svg>\n",
              "  </button>\n",
              "\n",
              "<style>\n",
              "  .colab-df-quickchart {\n",
              "      --bg-color: #E8F0FE;\n",
              "      --fill-color: #1967D2;\n",
              "      --hover-bg-color: #E2EBFA;\n",
              "      --hover-fill-color: #174EA6;\n",
              "      --disabled-fill-color: #AAA;\n",
              "      --disabled-bg-color: #DDD;\n",
              "  }\n",
              "\n",
              "  [theme=dark] .colab-df-quickchart {\n",
              "      --bg-color: #3B4455;\n",
              "      --fill-color: #D2E3FC;\n",
              "      --hover-bg-color: #434B5C;\n",
              "      --hover-fill-color: #FFFFFF;\n",
              "      --disabled-bg-color: #3B4455;\n",
              "      --disabled-fill-color: #666;\n",
              "  }\n",
              "\n",
              "  .colab-df-quickchart {\n",
              "    background-color: var(--bg-color);\n",
              "    border: none;\n",
              "    border-radius: 50%;\n",
              "    cursor: pointer;\n",
              "    display: none;\n",
              "    fill: var(--fill-color);\n",
              "    height: 32px;\n",
              "    padding: 0;\n",
              "    width: 32px;\n",
              "  }\n",
              "\n",
              "  .colab-df-quickchart:hover {\n",
              "    background-color: var(--hover-bg-color);\n",
              "    box-shadow: 0 1px 2px rgba(60, 64, 67, 0.3), 0 1px 3px 1px rgba(60, 64, 67, 0.15);\n",
              "    fill: var(--button-hover-fill-color);\n",
              "  }\n",
              "\n",
              "  .colab-df-quickchart-complete:disabled,\n",
              "  .colab-df-quickchart-complete:disabled:hover {\n",
              "    background-color: var(--disabled-bg-color);\n",
              "    fill: var(--disabled-fill-color);\n",
              "    box-shadow: none;\n",
              "  }\n",
              "\n",
              "  .colab-df-spinner {\n",
              "    border: 2px solid var(--fill-color);\n",
              "    border-color: transparent;\n",
              "    border-bottom-color: var(--fill-color);\n",
              "    animation:\n",
              "      spin 1s steps(1) infinite;\n",
              "  }\n",
              "\n",
              "  @keyframes spin {\n",
              "    0% {\n",
              "      border-color: transparent;\n",
              "      border-bottom-color: var(--fill-color);\n",
              "      border-left-color: var(--fill-color);\n",
              "    }\n",
              "    20% {\n",
              "      border-color: transparent;\n",
              "      border-left-color: var(--fill-color);\n",
              "      border-top-color: var(--fill-color);\n",
              "    }\n",
              "    30% {\n",
              "      border-color: transparent;\n",
              "      border-left-color: var(--fill-color);\n",
              "      border-top-color: var(--fill-color);\n",
              "      border-right-color: var(--fill-color);\n",
              "    }\n",
              "    40% {\n",
              "      border-color: transparent;\n",
              "      border-right-color: var(--fill-color);\n",
              "      border-top-color: var(--fill-color);\n",
              "    }\n",
              "    60% {\n",
              "      border-color: transparent;\n",
              "      border-right-color: var(--fill-color);\n",
              "    }\n",
              "    80% {\n",
              "      border-color: transparent;\n",
              "      border-right-color: var(--fill-color);\n",
              "      border-bottom-color: var(--fill-color);\n",
              "    }\n",
              "    90% {\n",
              "      border-color: transparent;\n",
              "      border-bottom-color: var(--fill-color);\n",
              "    }\n",
              "  }\n",
              "</style>\n",
              "\n",
              "  <script>\n",
              "    async function quickchart(key) {\n",
              "      const quickchartButtonEl =\n",
              "        document.querySelector('#' + key + ' button');\n",
              "      quickchartButtonEl.disabled = true;  // To prevent multiple clicks.\n",
              "      quickchartButtonEl.classList.add('colab-df-spinner');\n",
              "      try {\n",
              "        const charts = await google.colab.kernel.invokeFunction(\n",
              "            'suggestCharts', [key], {});\n",
              "      } catch (error) {\n",
              "        console.error('Error during call to suggestCharts:', error);\n",
              "      }\n",
              "      quickchartButtonEl.classList.remove('colab-df-spinner');\n",
              "      quickchartButtonEl.classList.add('colab-df-quickchart-complete');\n",
              "    }\n",
              "    (() => {\n",
              "      let quickchartButtonEl =\n",
              "        document.querySelector('#df-eca17c00-f9ff-4ef0-a506-22a4786a6c6c button');\n",
              "      quickchartButtonEl.style.display =\n",
              "        google.colab.kernel.accessAllowed ? 'block' : 'none';\n",
              "    })();\n",
              "  </script>\n",
              "</div>\n",
              "    </div>\n",
              "  </div>\n"
            ]
          },
          "metadata": {},
          "execution_count": 15
        }
      ],
      "source": [
        "# Check the length of text field\n",
        "import pyspark.sql.functions as F\n",
        "train_df = sdf_train.withColumn(\"length_of_text\", F.length(\"text\"))\n",
        "train_df.toPandas()"
      ]
    },
    {
      "cell_type": "code",
      "execution_count": null,
      "metadata": {
        "id": "NVyVe9esQW4Z",
        "colab": {
          "base_uri": "https://localhost:8080/"
        },
        "outputId": "189a59f7-f6f3-4424-e366-8842b06e33b0"
      },
      "outputs": [
        {
          "output_type": "stream",
          "name": "stdout",
          "text": [
            "+---+--------------------+------+\n",
            "| id|                text|target|\n",
            "+---+--------------------+------+\n",
            "|  1|Our Deeds are the...|     1|\n",
            "|  4|Forest fire near ...|     1|\n",
            "|  5|All residents ask...|     1|\n",
            "|  6|13,000 people rec...|     1|\n",
            "|  7|Just got sent thi...|     1|\n",
            "+---+--------------------+------+\n",
            "only showing top 5 rows\n",
            "\n"
          ]
        }
      ],
      "source": [
        "ml_df = sdf_train.select(\"id\",\"text\",\"target\")\n",
        "ml_df.show(5)"
      ]
    },
    {
      "cell_type": "code",
      "execution_count": null,
      "metadata": {
        "id": "Qnvf4_VeQ6D_",
        "colab": {
          "base_uri": "https://localhost:8080/"
        },
        "outputId": "dd04d515-b072-4e32-bda9-cdd7dc6ab733"
      },
      "outputs": [
        {
          "output_type": "stream",
          "name": "stdout",
          "text": [
            "+---+--------------------+------+--------------------+\n",
            "| id|                text|target|            only_str|\n",
            "+---+--------------------+------+--------------------+\n",
            "|  1|Our Deeds are the...|     1|Our Deeds are the...|\n",
            "|  4|Forest fire near ...|     1|Forest fire near ...|\n",
            "|  5|All residents ask...|     1|All residents ask...|\n",
            "|  6|13,000 people rec...|     1|, people receive ...|\n",
            "|  7|Just got sent thi...|     1|Just got sent thi...|\n",
            "+---+--------------------+------+--------------------+\n",
            "only showing top 5 rows\n",
            "\n"
          ]
        }
      ],
      "source": [
        "ml_df = ml_df.withColumn(\"only_str\",regexp_replace(col('text'), '\\d+', ''))\n",
        "ml_df.show(5)"
      ]
    },
    {
      "cell_type": "code",
      "execution_count": null,
      "metadata": {
        "id": "r3niLtbXQ6iD",
        "colab": {
          "base_uri": "https://localhost:8080/"
        },
        "outputId": "0d0b0f79-908e-4cbc-d6af-4db55f2bb6ef"
      },
      "outputs": [
        {
          "output_type": "stream",
          "name": "stdout",
          "text": [
            "+---+--------------------+------+--------------------+--------------------+\n",
            "| id|                text|target|            only_str|               words|\n",
            "+---+--------------------+------+--------------------+--------------------+\n",
            "|  1|Our Deeds are the...|     1|Our Deeds are the...|[our, deeds, are,...|\n",
            "|  4|Forest fire near ...|     1|Forest fire near ...|[forest, fire, ne...|\n",
            "|  5|All residents ask...|     1|All residents ask...|[all, residents, ...|\n",
            "|  6|13,000 people rec...|     1|, people receive ...|[people, receive,...|\n",
            "|  7|Just got sent thi...|     1|Just got sent thi...|[just, got, sent,...|\n",
            "+---+--------------------+------+--------------------+--------------------+\n",
            "only showing top 5 rows\n",
            "\n"
          ]
        }
      ],
      "source": [
        "regex_tokenizer = RegexTokenizer(inputCol=\"only_str\", outputCol=\"words\", pattern=\"\\\\W\")\n",
        "raw_words = regex_tokenizer.transform(ml_df)\n",
        "raw_words.show(5)"
      ]
    },
    {
      "cell_type": "code",
      "execution_count": null,
      "metadata": {
        "id": "2dBF1XV6RKRX",
        "colab": {
          "base_uri": "https://localhost:8080/"
        },
        "outputId": "426c913c-0d4c-494d-be3d-4fa6953bed6b"
      },
      "outputs": [
        {
          "output_type": "stream",
          "name": "stdout",
          "text": [
            "+---+---------------------------------------------------------------------------------------------------------------------------------------------------------+------+----------------------------------------------------------------------------------------------------+\n",
            "|id |words                                                                                                                                                    |target|filtered                                                                                            |\n",
            "+---+---------------------------------------------------------------------------------------------------------------------------------------------------------+------+----------------------------------------------------------------------------------------------------+\n",
            "|1  |[our, deeds, are, the, reason, of, this, earthquake, may, allah, forgive, us, all]                                                                       |1     |[deeds, reason, earthquake, may, allah, forgive, us]                                                |\n",
            "|4  |[forest, fire, near, la, ronge, sask, canada]                                                                                                            |1     |[forest, fire, near, la, ronge, sask, canada]                                                       |\n",
            "|5  |[all, residents, asked, to, shelter, in, place, are, being, notified, by, officers, no, other, evacuation, or, shelter, in, place, orders, are, expected]|1     |[residents, asked, shelter, place, notified, officers, evacuation, shelter, place, orders, expected]|\n",
            "|6  |[people, receive, wildfires, evacuation, orders, in, california]                                                                                         |1     |[people, receive, wildfires, evacuation, orders, california]                                        |\n",
            "|7  |[just, got, sent, this, photo, from, ruby, alaska, as, smoke, from, wildfires, pours, into, a, school]                                                   |1     |[got, sent, photo, ruby, alaska, smoke, wildfires, pours, school]                                   |\n",
            "+---+---------------------------------------------------------------------------------------------------------------------------------------------------------+------+----------------------------------------------------------------------------------------------------+\n",
            "only showing top 5 rows\n",
            "\n"
          ]
        }
      ],
      "source": [
        "remover = StopWordsRemover(inputCol=\"words\", outputCol=\"filtered\")\n",
        "words_df = remover.transform(raw_words)\n",
        "words_df.select(\"id\",\"words\",\"target\",\"filtered\").show(5, truncate=False)"
      ]
    },
    {
      "cell_type": "code",
      "execution_count": null,
      "metadata": {
        "id": "k612UFaTRYmU",
        "colab": {
          "base_uri": "https://localhost:8080/"
        },
        "outputId": "a17b6928-7d3e-4582-e157-83757eb2c178"
      },
      "outputs": [
        {
          "output_type": "stream",
          "name": "stdout",
          "text": [
            "+---+--------------------+------+--------------------+--------------------+--------------------+-------------------------+-----+\n",
            "| id|                text|target|            only_str|               words|            filtered|count_vectorized_features|label|\n",
            "+---+--------------------+------+--------------------+--------------------+--------------------+-------------------------+-----+\n",
            "|  1|Our Deeds are the...|     1|Our Deeds are the...|[our, deeds, are,...|[deeds, reason, e...|     (19663,[24,65,149...|    1|\n",
            "|  4|Forest fire near ...|     1|Forest fire near ...|[forest, fire, ne...|[forest, fire, ne...|     (19663,[7,100,138...|    1|\n",
            "|  5|All residents ask...|     1|All residents ask...|[all, residents, ...|[residents, asked...|     (19663,[159,584,9...|    1|\n",
            "|  6|13,000 people rec...|     1|, people receive ...|[people, receive,...|[people, receive,...|     (19663,[11,23,159...|    1|\n",
            "|  7|Just got sent thi...|     1|Just got sent thi...|[just, got, sent,...|[got, sent, photo...|     (19663,[32,106,15...|    1|\n",
            "+---+--------------------+------+--------------------+--------------------+--------------------+-------------------------+-----+\n",
            "only showing top 5 rows\n",
            "\n"
          ]
        }
      ],
      "source": [
        "cv = CountVectorizer(inputCol=\"filtered\", outputCol=\"count_vectorized_features\")\n",
        "model = cv.fit(words_df)\n",
        "countVectorizer_train = model.transform(words_df)\n",
        "countVectorizer_train = countVectorizer_train.withColumn(\"label\", col('target'))\n",
        "countVectorizer_train.show(5)"
      ]
    },
    {
      "cell_type": "code",
      "execution_count": null,
      "metadata": {
        "id": "mxy5xgpFSlvt"
      },
      "outputs": [],
      "source": [
        "(train, testData) = countVectorizer_train.randomSplit([0.8, 0.2], seed=97435)"
      ]
    },
    {
      "cell_type": "markdown",
      "metadata": {
        "id": "CfzbMX9ZXF-R"
      },
      "source": [
        "Machine Learning Prediction Models\n"
      ]
    },
    {
      "cell_type": "markdown",
      "metadata": {
        "id": "2r-VpxHlYMV_"
      },
      "source": [
        "Naive Bayes Classifier"
      ]
    },
    {
      "cell_type": "code",
      "execution_count": null,
      "metadata": {
        "id": "PO7n4KwMXDxH",
        "colab": {
          "base_uri": "https://localhost:8080/"
        },
        "outputId": "d4fdf771-3ee7-47de-8400-0fd81632f999"
      },
      "outputs": [
        {
          "output_type": "stream",
          "name": "stdout",
          "text": [
            "Test Area Under ROC 0.4302179682948281\n",
            "Accuracy of NaiveBayes is = 0.803413\n"
          ]
        }
      ],
      "source": [
        "# Define and train the NaiveBayes model\n",
        "nb = NaiveBayes(modelType=\"multinomial\", labelCol=\"label\", featuresCol=\"count_vectorized_features\")\n",
        "nbModel = nb.fit(train)\n",
        "\n",
        "# Make predictions on the validation data\n",
        "nb_predictions = nbModel.transform(testData)\n",
        "\n",
        "# Evaluate the model using BinaryClassificationEvaluator\n",
        "nbEval = BinaryClassificationEvaluator()\n",
        "print('Test Area Under ROC', nbEval.evaluate(nb_predictions))\n",
        "\n",
        "# Evaluate the model's accuracy using MulticlassClassificationEvaluator\n",
        "evaluator = MulticlassClassificationEvaluator(labelCol=\"label\", predictionCol=\"prediction\", metricName=\"accuracy\")\n",
        "nb_accuracy = evaluator.evaluate(nb_predictions)\n",
        "print(\"Accuracy of NaiveBayes is = %g\" % nb_accuracy)"
      ]
    },
    {
      "cell_type": "markdown",
      "metadata": {
        "id": "iajxvDmRYNqx"
      },
      "source": [
        "Logistic Regression Model"
      ]
    },
    {
      "cell_type": "code",
      "execution_count": null,
      "metadata": {
        "id": "-wTzPuVmYPoM",
        "colab": {
          "base_uri": "https://localhost:8080/"
        },
        "outputId": "67bf050e-ea4d-467e-aeca-c99f8794e20f"
      },
      "outputs": [
        {
          "output_type": "stream",
          "name": "stdout",
          "text": [
            "Test Area Under ROC 0.827757828237632\n",
            "Accuracy of Logistic Regression is = 0.791126\n"
          ]
        }
      ],
      "source": [
        "# Define and train the Logistic Regression model\n",
        "lr = LogisticRegression(featuresCol=\"count_vectorized_features\", labelCol=\"label\", maxIter=10)\n",
        "lrModel = lr.fit(train)\n",
        "\n",
        "# Make predictions on the validation data\n",
        "lrPreds = lrModel.transform(testData)\n",
        "\n",
        "# Evaluate the model using BinaryClassificationEvaluator\n",
        "lrEval = BinaryClassificationEvaluator()\n",
        "print('Test Area Under ROC', lrEval.evaluate(lrPreds))\n",
        "\n",
        "# Evaluate the model's accuracy using MulticlassClassificationEvaluator\n",
        "evaluator = MulticlassClassificationEvaluator(labelCol=\"label\", predictionCol=\"prediction\", metricName=\"accuracy\")\n",
        "lr_accuracy = evaluator.evaluate(lrPreds)\n",
        "print(\"Accuracy of Logistic Regression is = %g\" % lr_accuracy)\n"
      ]
    },
    {
      "cell_type": "markdown",
      "metadata": {
        "id": "Kmp3VHKnYqZ0"
      },
      "source": [
        "Decision Tree Classifier"
      ]
    },
    {
      "cell_type": "code",
      "execution_count": null,
      "metadata": {
        "id": "pNLk8kWnYsOl",
        "colab": {
          "base_uri": "https://localhost:8080/"
        },
        "outputId": "8fec5b79-e832-42f4-c7c0-ffeef0989cc9"
      },
      "outputs": [
        {
          "output_type": "stream",
          "name": "stdout",
          "text": [
            "Test Area Under ROC:  0.6226871332447346\n",
            "Accuracy of Decision Trees is = 0.643003\n"
          ]
        }
      ],
      "source": [
        "# Define and train the Decision Tree Classifier model\n",
        "dt = DecisionTreeClassifier(featuresCol=\"count_vectorized_features\", labelCol=\"label\", maxDepth=3)\n",
        "dtModel = dt.fit(train)\n",
        "\n",
        "# Make predictions on the validation data\n",
        "dtPreds = dtModel.transform(testData)\n",
        "\n",
        "# Evaluate the model using BinaryClassificationEvaluator\n",
        "dtEval = BinaryClassificationEvaluator()\n",
        "print(\"Test Area Under ROC: \", dtEval.evaluate(dtPreds))\n",
        "\n",
        "# Evaluate the model's accuracy using MulticlassClassificationEvaluator\n",
        "evaluator = MulticlassClassificationEvaluator(labelCol=\"label\", predictionCol=\"prediction\", metricName=\"accuracy\")\n",
        "dt_accuracy = evaluator.evaluate(dtPreds)\n",
        "print(\"Accuracy of Decision Trees is = %g\" % dt_accuracy)"
      ]
    },
    {
      "cell_type": "markdown",
      "metadata": {
        "id": "QHqRWDUDZo0X"
      },
      "source": [
        "Random Forest Classifier"
      ]
    },
    {
      "cell_type": "code",
      "execution_count": null,
      "metadata": {
        "id": "AoAsYZTKZrDr",
        "colab": {
          "base_uri": "https://localhost:8080/"
        },
        "outputId": "67daf28a-0e80-46a0-dcd4-374935123bc1"
      },
      "outputs": [
        {
          "output_type": "stream",
          "name": "stdout",
          "text": [
            "Test Area Under ROC:  0.7399812266999738\n",
            "Accuracy of Random Forests is = 0.605461\n"
          ]
        }
      ],
      "source": [
        "# Define and train the Random Forest Classifier model\n",
        "rf = RandomForestClassifier(featuresCol=\"count_vectorized_features\", labelCol=\"label\")\n",
        "rfModel = rf.fit(train)\n",
        "\n",
        "# Make predictions on the validation data\n",
        "rfPreds = rfModel.transform(testData)\n",
        "\n",
        "# Evaluate the model using BinaryClassificationEvaluator\n",
        "rfEval = BinaryClassificationEvaluator()\n",
        "print(\"Test Area Under ROC: \", rfEval.evaluate(rfPreds))\n",
        "\n",
        "# Evaluate the model's accuracy using MulticlassClassificationEvaluator\n",
        "evaluator = MulticlassClassificationEvaluator(labelCol=\"label\", predictionCol=\"prediction\", metricName=\"accuracy\")\n",
        "rf_accuracy = evaluator.evaluate(rfPreds)\n",
        "print(\"Accuracy of Random Forests is = %g\" % rf_accuracy)"
      ]
    },
    {
      "cell_type": "markdown",
      "metadata": {
        "id": "MBeeVtbHfB-w"
      },
      "source": [
        "ML Pipeline"
      ]
    },
    {
      "cell_type": "code",
      "execution_count": null,
      "metadata": {
        "id": "cRyPpYhcfFQW"
      },
      "outputs": [],
      "source": [
        "# Logistic Regression Pipeline\n",
        "lr = LogisticRegression(featuresCol='count_vectorized_features', labelCol='label')\n",
        "lr_pipeline = Pipeline(stages=[lr])\n",
        "\n",
        "# Decision Tree Pipeline\n",
        "dt = DecisionTreeClassifier(featuresCol='count_vectorized_features', labelCol='label')\n",
        "dt_pipeline = Pipeline(stages=[dt])\n",
        "\n",
        "# Random Forest Pipeline\n",
        "rf = RandomForestClassifier(featuresCol='count_vectorized_features', labelCol='label')\n",
        "rf_pipeline = Pipeline(stages=[rf])\n",
        "\n",
        "# Naive Bayes Pipeline\n",
        "nb = NaiveBayes(featuresCol='count_vectorized_features', labelCol='label')\n",
        "nb_pipeline = Pipeline(stages=[nb])"
      ]
    },
    {
      "cell_type": "code",
      "execution_count": null,
      "metadata": {
        "id": "WyBAvdEHhuzR"
      },
      "outputs": [],
      "source": [
        "# Hyperparameter grid for each model\n",
        "paramGrid_lr = ParamGridBuilder() \\\n",
        "    .addGrid(lr.maxIter, [10, 20]) \\\n",
        "    .addGrid(lr.regParam, [0.01, 0.1]) \\\n",
        "    .addGrid(lr.elasticNetParam, [0.0, 0.5]) \\\n",
        "    .build()\n",
        "\n",
        "\n",
        "paramGrid_dt = ParamGridBuilder() \\\n",
        "    .addGrid(dt.maxDepth, [3, 5, 7]) \\\n",
        "    .addGrid(dt.minInstancesPerNode, [1, 3, 5]) \\\n",
        "    .addGrid(dt.impurity, ['gini', 'entropy']) \\\n",
        "    .build()\n",
        "\n",
        "paramGrid_rf = ParamGridBuilder() \\\n",
        "    .addGrid(rf.numTrees, [10, 20, 30]) \\\n",
        "    .addGrid(rf.maxDepth, [5, 10, 15]) \\\n",
        "    .addGrid(rf.featureSubsetStrategy, ['auto', 'sqrt', 'log2']) \\\n",
        "    .build()\n",
        "\n",
        "paramGrid_nb = ParamGridBuilder() \\\n",
        "    .addGrid(nb.smoothing, [0.0, 1.0]) \\\n",
        "    .build()\n"
      ]
    },
    {
      "cell_type": "code",
      "execution_count": null,
      "metadata": {
        "id": "AjwNbkjyhyzq"
      },
      "outputs": [],
      "source": [
        "# Cross-validation setup\n",
        "crossval_lr = CrossValidator(estimator=lr_pipeline, estimatorParamMaps=paramGrid_lr,\n",
        "                             evaluator=MulticlassClassificationEvaluator(\n",
        "                                 labelCol='label', predictionCol='prediction', metricName='accuracy'),\n",
        "                             numFolds=5)\n",
        "\n",
        "crossval_dt = CrossValidator(estimator=dt_pipeline, estimatorParamMaps=paramGrid_dt,\n",
        "                             evaluator=MulticlassClassificationEvaluator(\n",
        "                                 labelCol='label', predictionCol='prediction', metricName='accuracy'),\n",
        "                             numFolds=5)\n",
        "\n",
        "crossval_rf = CrossValidator(estimator=rf_pipeline, estimatorParamMaps=paramGrid_rf,\n",
        "                             evaluator=MulticlassClassificationEvaluator(\n",
        "                                 labelCol='label', predictionCol='prediction', metricName='accuracy'),\n",
        "                             numFolds=5)\n",
        "\n",
        "crossval_nb = CrossValidator(estimator=nb_pipeline, estimatorParamMaps=paramGrid_nb,\n",
        "                              evaluator=MulticlassClassificationEvaluator(\n",
        "                                  labelCol='label', predictionCol='prediction', metricName='accuracy'),\n",
        "                              numFolds=5)\n"
      ]
    },
    {
      "cell_type": "code",
      "execution_count": null,
      "metadata": {
        "id": "9mHUWBMtiQ3T"
      },
      "outputs": [],
      "source": [
        "# Fit the models\n",
        "cvModel_lr = crossval_lr.fit(train)\n",
        "cvModel_dt = crossval_dt.fit(train)\n",
        "cvModel_rf = crossval_rf.fit(train)\n",
        "cvModel_nb = crossval_nb.fit(train)\n",
        "\n",
        "best_model_lr = cvModel_lr.bestModel\n",
        "best_model_dt = cvModel_dt.bestModel\n",
        "best_model_rf = cvModel_rf.bestModel\n",
        "best_model_nb = cvModel_nb.bestModel"
      ]
    },
    {
      "cell_type": "code",
      "execution_count": null,
      "metadata": {
        "id": "Kc_O_xEiioJA",
        "colab": {
          "base_uri": "https://localhost:8080/"
        },
        "outputId": "ce730d5e-c43b-4f89-ac7c-557a89e81d14"
      },
      "outputs": [
        {
          "output_type": "stream",
          "name": "stdout",
          "text": [
            "Test Accuracy for Logistic Regression: 0.79\n",
            "Test Accuracy for Decision Tree: 0.65\n",
            "Test Accuracy for Random Forest: 0.66\n",
            "Test Accuracy for Naive Bayes: 0.80\n"
          ]
        }
      ],
      "source": [
        "# Evaluate the Logistic Regression model on test data\n",
        "predictions_lr = best_model_lr.transform(testData)\n",
        "evaluator = MulticlassClassificationEvaluator(labelCol=\"target\", predictionCol=\"prediction\", metricName=\"accuracy\")\n",
        "accuracy_lr = evaluator.evaluate(predictions_lr)\n",
        "print(f\"Test Accuracy for Logistic Regression: {accuracy_lr:.2f}\")\n",
        "\n",
        "# Evaluate the Decision Tree model on test data\n",
        "predictions_dt = best_model_dt.transform(testData)\n",
        "accuracy_dt = evaluator.evaluate(predictions_dt)\n",
        "print(f\"Test Accuracy for Decision Tree: {accuracy_dt:.2f}\")\n",
        "\n",
        "# Evaluate the Random Forest model on test data\n",
        "predictions_rf = best_model_rf.transform(testData)\n",
        "accuracy_rf = evaluator.evaluate(predictions_rf)\n",
        "print(f\"Test Accuracy for Random Forest: {accuracy_rf:.2f}\")\n",
        "\n",
        "# Evaluate the Gaussian NB Tree model on test data\n",
        "predictions_nb = best_model_nb.transform(testData)\n",
        "accuracy_nb = evaluator.evaluate(predictions_nb)\n",
        "print(f\"Test Accuracy for Naive Bayes: {accuracy_nb:.2f}\")"
      ]
    },
    {
      "cell_type": "code",
      "source": [
        "import matplotlib.pyplot as plt\n",
        "\n",
        "# Define the model names and their corresponding accuracies for the first set of results\n",
        "model_names_1 = ['Logistic Regression', 'Decision Tree', 'Random Forest', 'Gaussian NB']\n",
        "accuracies_1 = [lr_accuracy, dt_accuracy, rf_accuracy, nb_accuracy]\n",
        "\n",
        "# Define the model names and their corresponding accuracies for the second set of results\n",
        "model_names_2 = ['Logistic Regression', 'Decision Tree', 'Random Forest', 'Gaussian NB']\n",
        "accuracies_2 = [accuracy_lr, accuracy_dt, accuracy_rf, accuracy_nb]\n",
        "\n",
        "# Create subplots\n",
        "fig, axes = plt.subplots(1, 2, figsize=(15, 6))\n",
        "\n",
        "# Plot the first set of results\n",
        "axes[0].bar(model_names_1, accuracies_1, color=['blue', 'green', 'red', 'purple'])\n",
        "axes[0].set_xlabel('Models')\n",
        "axes[0].set_ylabel('Accuracy')\n",
        "axes[0].set_title('Model Accuracy Comparison (Set 1)')\n",
        "axes[0].set_ylim(0, 1)\n",
        "\n",
        "# Plot the second set of results\n",
        "axes[1].bar(model_names_2, accuracies_2, color=['blue', 'green', 'red', 'purple'])\n",
        "axes[1].set_xlabel('Models')\n",
        "axes[1].set_ylabel('Accuracy')\n",
        "axes[1].set_title('Model Accuracy Comparison (Set 2)')\n",
        "axes[1].set_ylim(0, 1)\n",
        "\n",
        "# Adjust layout to prevent overlap\n",
        "plt.tight_layout()\n",
        "\n",
        "# Show the plots\n",
        "plt.show()"
      ],
      "metadata": {
        "colab": {
          "base_uri": "https://localhost:8080/",
          "height": 458
        },
        "id": "ucWiJl0jNMvS",
        "outputId": "d99324e1-7eff-4941-92b4-2f81602f319d"
      },
      "execution_count": null,
      "outputs": [
        {
          "output_type": "display_data",
          "data": {
            "text/plain": [
              "<Figure size 1500x600 with 2 Axes>"
            ],
            "image/png": "[encoded data removed]"
          },
          "metadata": {}
        }
      ]
    },
    {
      "cell_type": "code",
      "source": [],
      "metadata": {
        "id": "_EuFVT6eNYwy"
      },
      "execution_count": null,
      "outputs": []
    }
  ],
  "metadata": {
    "colab": {
      "provenance": []
    },
    "kernelspec": {
      "display_name": "Python 3",
      "name": "python3"
    },
    "language_info": {
      "name": "python"
    }
  },
  "nbformat": 4,
  "nbformat_minor": 0
}